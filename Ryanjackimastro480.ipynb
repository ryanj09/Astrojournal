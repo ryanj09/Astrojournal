{
 "cells": [
  {
   "cell_type": "code",
   "execution_count": 39,
   "metadata": {},
   "outputs": [],
   "source": [
    "import numpy as np\n",
    "import scipy\n",
    "import matplotlib.pyplot as plt# matplot is not properly installed"
   ]
  },
  {
   "cell_type": "code",
   "execution_count": 40,
   "metadata": {},
   "outputs": [
    {
     "ename": "NameError",
     "evalue": "name 'matplotlib' is not defined",
     "output_type": "error",
     "traceback": [
      "\u001b[1;31m---------------------------------------------------------------------------\u001b[0m",
      "\u001b[1;31mNameError\u001b[0m                                 Traceback (most recent call last)",
      "\u001b[1;32m<ipython-input-40-09c060153213>\u001b[0m in \u001b[0;36m<module>\u001b[1;34m()\u001b[0m\n\u001b[1;32m----> 1\u001b[1;33m \u001b[0mprint\u001b[0m\u001b[1;33m(\u001b[0m\u001b[0mmatplotlib\u001b[0m\u001b[1;33m.\u001b[0m\u001b[0m__version__\u001b[0m\u001b[1;33m)\u001b[0m\u001b[1;33m\u001b[0m\u001b[0m\n\u001b[0m\u001b[0;32m      2\u001b[0m \u001b[1;31m#all other checks worked but matplotlib was not defined and I couldn't figure out why.\u001b[0m\u001b[1;33m\u001b[0m\u001b[1;33m\u001b[0m\u001b[0m\n",
      "\u001b[1;31mNameError\u001b[0m: name 'matplotlib' is not defined"
     ]
    }
   ],
   "source": [
    "print(matplotlib.__version__) \n",
    "#all other checks worked but matplotlib was not defined and I couldn't figure out why. "
   ]
  },
  {
   "cell_type": "code",
   "execution_count": null,
   "metadata": {},
   "outputs": [],
   "source": [
    "#I read the white side journal and I found that I needed to put in all failed attempts into the paper. \n",
    "#Also, that the failed attempts go after the final conclution. \n",
    "#I didn't realize that the process started long before data was taken and \n",
    "#that I needed to build my argument around the data\n",
    "#One thing I was very confused over was the three sections. \n",
    "#It said that there was only introduction, results, and conclution\n",
    "#What about data analysis. I always see this in astronomical journals. "
   ]
  },
  {
   "cell_type": "code",
   "execution_count": null,
   "metadata": {},
   "outputs": [],
   "source": [
    "#had troubles finding the proper terminal. Ended up using Git Bash which I had seperately installed into my computer\n",
    "#list of the codes I was using in git bash on 3/28\n",
    "#$ git config --list\n",
    "#$ git config --global user.name \"Ryanj\"\n",
    "#$ git config --global user.email \"ryanj09@uw.edu\"\n",
    "#$ git config --global color.ui \"auto\"\n",
    "#$ git config --global core.autocrlf true\n",
    "#$ git config --global core.editor \"Notepad++\"\n",
    "#or $ git config --global core.editor \"nano -w\" Decided to go with this one\n",
    "#or $ git config --global core.editor \"emacs\"\n",
    "#or $ git config --global core.editor \"vim\"\n",
    "#or $ git config --global core.editor \"atom -wait\"\n",
    "#$ mkdir planets\n",
    "#$ cd planets\n",
    "#$ git init\n",
    "#$ ls\n",
    "#$ ls -a\n",
    "#$ cd\n",
    "#$ cd planets\n",
    "#$ ls -a\n",
    "#$ mkdir moons\n",
    "#$ cd moons\n",
    "#$ git init\n",
    "#$ ls -a\n",
    "#$ rm -rf moons/.git caution\n",
    "#http://swcarpentry.github.io/git-novice/04-changes/\n",
    "#$ git commit -m \"Start notes on Mars as a base\" tell git what you changed\n",
    "#http://swcarpentry.github.io/git-novice/05-history/\n",
    "#$ git diff HEAD~1 mars.txt compare different edits that we made\n",
    "#"
   ]
  },
  {
   "cell_type": "code",
   "execution_count": null,
   "metadata": {},
   "outputs": [],
   "source": [
    "#http://swcarpentry.github.io/git-novice/07-github/\n",
    "#http://swcarpentry.github.io/git-novice/08-collab/\n",
    "#jSkycalc download"
   ]
  },
  {
   "cell_type": "code",
   "execution_count": 2,
   "metadata": {},
   "outputs": [
    {
     "name": "stderr",
     "output_type": "stream",
     "text": [
      "WARNING: OldEarthOrientationDataWarning: Your version of the IERS Bulletin A is 29.8 days old. For best precision (on the order of arcseconds), you must download an up-to-date IERS Bulletin A table. To do so, run:\n",
      "\n",
      ">>> from astroplan import download_IERS_A\n",
      ">>> download_IERS_A()\n",
      " [astroplan.utils]\n"
     ]
    }
   ],
   "source": [
    "#civil twilight, 6, you can walk outside without a flashlight \n",
    "#nautical twilight 12, you can stear a boat\n",
    "#astronmical twilight 18, your detector wont over satcherate. \n",
    "%matplotlib inline\n",
    "import matplotlib.pyplot as plt\n",
    "\n",
    "import numpy as np\n",
    "import pandas as pd\n",
    "\n",
    "import astropy.units as u\n",
    "from astropy.time import Time\n",
    "from astropy.coordinates import SkyCoord\n",
    "import pytz\n",
    "\n",
    "from astroplan.plots import plot_sky, plot_airmass\n",
    "from astroplan import Observer, FixedTarget, time_grid_from_range, observability_table, moon_illumination\n",
    "from astroplan import AirmassConstraint, MoonSeparationConstraint"
   ]
  },
  {
   "cell_type": "code",
   "execution_count": 13,
   "metadata": {},
   "outputs": [
    {
     "name": "stdout",
     "output_type": "stream",
     "text": [
      "The local time at the observational window is 2018-04-29 05:00:00-07:00\n"
     ]
    }
   ],
   "source": [
    "a_p_o = Observer(longitude = 105.8203 * u.deg,\n",
    "                    latitude =  47 * u.deg,\n",
    "                    elevation = 278 * u.m,\n",
    "                    timezone = 'US/Pacific',\n",
    "                    name = \"Seattle\"\n",
    "                    )\n",
    "a_p_o_timezone = a_p_o.timezone\n",
    "\n",
    "observational_window = Time(\"2018-04-29 12:00:00\")\n",
    "\n",
    "observational_window2 = Time(\"2018-12-31 12:00:00\")\n",
    "\n",
    "beginning_a_p_o = observational_window.to_datetime(a_p_o_timezone)\n",
    "\n",
    "print(\"The local time at the observational window is {0}\".format(beginning_a_p_o))"
   ]
  },
  {
   "cell_type": "code",
   "execution_count": 14,
   "metadata": {},
   "outputs": [
    {
     "name": "stdout",
     "output_type": "stream",
     "text": [
      "Astronomical Evening Twilight starts at 2018-04-29 14:07:16.899 UTC\n",
      "Astronomical Morning Twilight starts at 2018-04-29 19:40:13.806 UTC\n",
      "You can observe for 5.5 h at Apache Point observatory in December.\n",
      "You can observe for 11.7 h at Apache Point observatory in March.\n"
     ]
    }
   ],
   "source": [
    "a_p_o_end = Time(\"2018-04-30 12:00:00\")\n",
    "\n",
    "a_p_o2_end = Time(\"2018-12-28 12:00:00\")\n",
    "\n",
    "a_p_o_rise = a_p_o.twilight_morning_astronomical(observational_window, which='next')\n",
    "\n",
    "a_p_o_set = a_p_o.twilight_evening_astronomical(observational_window, which='nearest')\n",
    "\n",
    "a_p_o2_rise = a_p_o.twilight_morning_astronomical(observational_window2, which='next')\n",
    "\n",
    "a_p_o2_set = a_p_o.twilight_evening_astronomical(observational_window2, which='nearest')\n",
    "\n",
    "print(\"Astronomical Evening Twilight starts at {0.iso} UTC\".format(a_p_o_set))\n",
    "\n",
    "print(\"Astronomical Morning Twilight starts at {0.iso} UTC\".format(a_p_o_rise))\n",
    "\n",
    "observing_length = (a_p_o_rise - a_p_o_set).to(u.h)\n",
    "\n",
    "observing_length2 = (a_p_o2_rise - a_p_o2_set).to(u.h)\n",
    "\n",
    "print(\"You can observe for {0:.1f} at Apache Point observatory in December.\".format(observing_length))\n",
    "print(\"You can observe for {0:.1f} at Apache Point observatory in March.\".format(observing_length2))"
   ]
  },
  {
   "cell_type": "code",
   "execution_count": 28,
   "metadata": {},
   "outputs": [
    {
     "name": "stdout",
     "output_type": "stream",
     "text": [
      "The RA is roughly 0 and 0 RA is the vernal equanox or when the sun has an RA of 0. \n",
      "      So the best time to view M31 would be in the fall\n"
     ]
    }
   ],
   "source": [
    "window_range = [observational_window, a_p_o_end]\n",
    "\n",
    "window_range2 = [observational_window2, a_p_o2_end]\n",
    "\n",
    "window_time_grid = time_grid_from_range(window_range)\n",
    "\n",
    "window_time_grid2 = time_grid_from_range(window_range2)\n",
    "\n",
    "#target_table = pd.read_csv('./Data/TargetList.csv')\n",
    "\n",
    "#target_values = target_table.as_matrix()\n",
    "\n",
    "targets = [FixedTarget(coord=SkyCoord(ra = 20*u.hourangle, dec = 38*u.deg), name='M3')]\n",
    "\n",
    "targets\n",
    "\n",
    "print('''The RA is roughly 0 and 0 RA is the vernal equanox or when the sun has an RA of 0. \n",
    "      So the best time to view M31 would be in the fall''')"
   ]
  },
  {
   "cell_type": "code",
   "execution_count": 29,
   "metadata": {},
   "outputs": [
    {
     "name": "stdout",
     "output_type": "stream",
     "text": [
      "target name ever observable always observable fraction of time observable\n",
      "----------- --------------- ----------------- ---------------------------\n",
      "         M3            True             False                         0.5\n",
      "target name ever observable always observable fraction of time observable\n",
      "----------- --------------- ----------------- ---------------------------\n",
      "         M3            True             False         0.08333333333333333\n"
     ]
    }
   ],
   "source": [
    "#Moon is at a dec of -12.07. So seperation of 53.33875\n",
    "constraints = [AirmassConstraint(2)]\n",
    "constraints.append(MoonSeparationConstraint(53.33875*u.deg))\n",
    "\n",
    "observing_range_a_p_o = [a_p_o_set, a_p_o_rise]\n",
    "\n",
    "observing_range_a_p_o2 = [a_p_o2_set, a_p_o2_rise]\n",
    "\n",
    "observing_table_a_p_o = observability_table(constraints, a_p_o, targets, time_range = observing_range_a_p_o)\n",
    "\n",
    "observing_table_a_p_o2 = observability_table(constraints, a_p_o, targets, time_range = observing_range_a_p_o2)\n",
    "\n",
    "print(observing_table_a_p_o)\n",
    "print(observing_table_a_p_o2)"
   ]
  },
  {
   "cell_type": "code",
   "execution_count": 30,
   "metadata": {},
   "outputs": [
    {
     "data": {
      "image/png": "[encoded data removed]",
      "text/plain": [
       "<matplotlib.figure.Figure at 0x17ea0216c18>"
      ]
     },
     "metadata": {},
     "output_type": "display_data"
    }
   ],
   "source": [
    "fig,ax = plt.subplots(1,1)\n",
    "fig.set_size_inches(10,5)\n",
    "\n",
    "fig.tight_layout()\n",
    "\n",
    "for i, my_object in enumerate(targets):#enumerate grab the if statment\n",
    "\n",
    "    if observing_table_a_p_o['ever observable'][i]:#ignore object I can't see\n",
    "        ax = plot_airmass(my_object, a_p_o, window_time_grid, max_airmass=2.0)\n",
    "\n",
    "ax.vlines(a_p_o_rise.datetime, 1,3, color='r', linewidth=5)\n",
    "ax.vlines(a_p_o_set.datetime, 1,3, color='b', linewidth=5)\n",
    "\n",
    "ax.legend();#loc=0,shadow=True);"
   ]
  },
  {
   "cell_type": "code",
   "execution_count": 31,
   "metadata": {},
   "outputs": [
    {
     "name": "stdout",
     "output_type": "stream",
     "text": [
      "You can observe M3 for 2.77 h at Apache Point observatory in December.\n",
      "You can observe M3 for 0.98 h at Apache Point observatory in March.\n"
     ]
    }
   ],
   "source": [
    "for i, my_object in enumerate(targets):\n",
    "\n",
    "    if observing_table_a_p_o['ever observable'][i]:\n",
    "        name = observing_table_a_p_o['target name'][i]\n",
    "        obj_frac = observing_table_a_p_o['fraction of time observable'][i]\n",
    "        obj_time = obj_frac * observing_length\n",
    "        output = \"You can observe {0:s} for {1:.2f} at Apache Point observatory in December.\".format(name, obj_time.to(u.h))\n",
    "        print(output)\n",
    "        \n",
    "for i, my_object in enumerate(targets):\n",
    "\n",
    "    if observing_table_a_p_o2['ever observable'][i]:\n",
    "        name = observing_table_a_p_o2['target name'][i]\n",
    "        obj_frac = observing_table_a_p_o2['fraction of time observable'][i]\n",
    "        obj_time = obj_frac * observing_length2\n",
    "        output = \"You can observe {0:s} for {1:.2f} at Apache Point observatory in March.\".format(name, obj_time.to(u.h))\n",
    "        print(output)\n",
    "    else:\n",
    "        out = \"You can not observe M31 in March.\"\n",
    "        print(out)"
   ]
  },
  {
   "cell_type": "code",
   "execution_count": 47,
   "metadata": {},
   "outputs": [
    {
     "name": "stdout",
     "output_type": "stream",
     "text": [
      "The Moon phase is 2.0217122287179654 rad so it is about waning.\n",
      "The Moon phase is 0.07450019146125471 rad so it is about new.\n"
     ]
    }
   ],
   "source": [
    "#IC 418 has a RA of 05 27 28.2037, dec of -12 41' 50.265\". RA: 5.45783, dec: -11.3027\n",
    "#You could not see it in the summer so the best time to observe is winter or december. \n",
    "phase_d = ctio.moon_phase(observational_window_d) #phase = 2*pi is new moon. phase = 0 is full\n",
    "phase_m = ctio.moon_phase(observational_window_m)\n",
    "\n",
    "print('The Moon phase is {0} so it is about waning.'.format(phase_d))\n",
    "print('The Moon phase is {0} so it is about new.'.format(phase_m))"
   ]
  },
  {
   "cell_type": "code",
   "execution_count": 48,
   "metadata": {},
   "outputs": [
    {
     "name": "stdout",
     "output_type": "stream",
     "text": [
      "The local time at the observational window is 2018-12-31 05:00:00-07:00\n"
     ]
    }
   ],
   "source": [
    "ctio = Observer(longitude = 70.804 * u.deg,\n",
    "                    latitude =  -30.169 * u.deg,\n",
    "                    elevation = 2200 * u.m,\n",
    "                    timezone = 'Etc/GMT+3',\n",
    "                    name = \"CTIO\"\n",
    "                    )\n",
    "ctio_timezone = ctio.timezone\n",
    "\n",
    "observational_window_d = Time(\"2018-12-31 12:00:00\")\n",
    "\n",
    "observational_window_m = Time(\"2018-03-31 12:00:00\")\n",
    "\n",
    "beginning_ctio = observational_window_d.to_datetime(a_p_o_timezone)\n",
    "\n",
    "print(\"The local time at the observational window is {0}\".format(beginning_ctio))"
   ]
  },
  {
   "cell_type": "code",
   "execution_count": 49,
   "metadata": {},
   "outputs": [
    {
     "name": "stderr",
     "output_type": "stream",
     "text": [
      "WARNING: OldEarthOrientationDataWarning: For best precision (on the order of arcseconds), you must download an up-to-date IERS Bulletin A table. To do so, run:\n",
      "\n",
      ">>> from astroplan import download_IERS_A\n",
      ">>> download_IERS_A()\n",
      " [astroplan.utils]\n"
     ]
    },
    {
     "name": "stdout",
     "output_type": "stream",
     "text": [
      "Astronomical Evening Twilight starts at 2018-12-31 15:57:49.126 UTC\n",
      "Astronomical Morning Twilight starts at 2018-12-31 22:42:03.611 UTC\n",
      "You can observe for 6.7 h at Apache Point observatory in December.\n",
      "You can observe for 9.6 h at Apache Point observatory in March.\n"
     ]
    }
   ],
   "source": [
    "ctio_end = Time(\"2018-12-28 12:00:00\")\n",
    "\n",
    "ctio2_end = Time(\"2018-12-28 12:00:00\")\n",
    "\n",
    "ctio_rise = ctio.twilight_morning_astronomical(observational_window_d, which='next')\n",
    "\n",
    "ctio_set = ctio.twilight_evening_astronomical(observational_window_d, which='nearest')\n",
    "\n",
    "ctio2_rise = ctio.twilight_morning_astronomical(observational_window_m, which='next')\n",
    "\n",
    "ctio2_set = ctio.twilight_evening_astronomical(observational_window_m, which='nearest')\n",
    "\n",
    "print(\"Astronomical Evening Twilight starts at {0.iso} UTC\".format(ctio_set))\n",
    "\n",
    "print(\"Astronomical Morning Twilight starts at {0.iso} UTC\".format(ctio_rise))\n",
    "\n",
    "observing_length_d = (ctio_rise - ctio_set).to(u.h)\n",
    "\n",
    "observing_length_m = (ctio2_rise - ctio2_set).to(u.h)\n",
    "\n",
    "print(\"You can observe for {0:.1f} at Apache Point observatory in December.\".format(observing_length_d))\n",
    "print(\"You can observe for {0:.1f} at Apache Point observatory in March.\".format(observing_length_m))"
   ]
  },
  {
   "cell_type": "code",
   "execution_count": 50,
   "metadata": {},
   "outputs": [
    {
     "data": {
      "text/plain": [
       "[<FixedTarget \"IC 418\" at SkyCoord (ICRS): (ra, dec) in deg (81.86745, -11.3027)>]"
      ]
     },
     "execution_count": 50,
     "metadata": {},
     "output_type": "execute_result"
    }
   ],
   "source": [
    "window_range_d = [observational_window_d, ctio_end]\n",
    "\n",
    "window_range_m = [observational_window_m, ctio2_end]\n",
    "\n",
    "window_time_grid_d = time_grid_from_range(window_range_d)\n",
    "\n",
    "window_time_grid_m = time_grid_from_range(window_range_m)\n",
    "\n",
    "#target_table = pd.read_csv('./Data/TargetList.csv')\n",
    "\n",
    "#target_values = target_table.as_matrix()\n",
    "\n",
    "targets = [FixedTarget(coord=SkyCoord(ra = 5.45783*u.hourangle, dec = -11.3027*u.deg), name='IC 418')]\n",
    "\n",
    "targets"
   ]
  },
  {
   "cell_type": "code",
   "execution_count": 51,
   "metadata": {},
   "outputs": [
    {
     "name": "stdout",
     "output_type": "stream",
     "text": [
      "target name ever observable always observable fraction of time observable\n",
      "----------- --------------- ----------------- ---------------------------\n",
      "     IC 418            True             False          0.9285714285714286\n",
      "target name ever observable always observable fraction of time observable\n",
      "----------- --------------- ----------------- ---------------------------\n",
      "     IC 418            True             False                         0.2\n"
     ]
    }
   ],
   "source": [
    "#Moon is at a dec of -12.07. So seperations is 18.099\n",
    "constraints2 = [AirmassConstraint(2)]\n",
    "constraints2.append(MoonSeparationConstraint(18.099*u.deg))\n",
    "\n",
    "observing_range_ctio = [ctio_set, ctio_rise]\n",
    "\n",
    "observing_range_ctio2 = [ctio2_set, ctio2_rise]\n",
    "\n",
    "observing_table_ctio = observability_table(constraints2, ctio, targets, time_range = observing_range_ctio)\n",
    "\n",
    "observing_table_ctio2 = observability_table(constraints2, ctio, targets, time_range = observing_range_ctio2)\n",
    "\n",
    "print(observing_table_ctio)\n",
    "print(observing_table_ctio2)"
   ]
  },
  {
   "cell_type": "code",
   "execution_count": 52,
   "metadata": {},
   "outputs": [
    {
     "name": "stdout",
     "output_type": "stream",
     "text": [
      "You can observe IC 418 for 6.26 h at Cerro Tololo Observatory in December.\n",
      "You can observe IC 418 for 1.91 h at Cerro Tololo Observatory in March.\n"
     ]
    }
   ],
   "source": [
    "for i, my_object in enumerate(targets):\n",
    "\n",
    "    if observing_table_ctio['ever observable'][i]:\n",
    "        name = observing_table_ctio['target name'][i]\n",
    "        obj_frac = observing_table_ctio['fraction of time observable'][i]\n",
    "        obj_time = obj_frac * observing_length_d\n",
    "        output = \"You can observe {0:s} for {1:.2f} at Cerro Tololo Observatory in December.\".format(name, obj_time.to(u.h))\n",
    "        print(output)\n",
    "        \n",
    "for i, my_object in enumerate(targets):\n",
    "\n",
    "    if observing_table_ctio2['ever observable'][i]:\n",
    "        name = observing_table_ctio2['target name'][i]\n",
    "        obj_frac = observing_table_ctio2['fraction of time observable'][i]\n",
    "        obj_time = obj_frac * observing_length_m\n",
    "        output = \"You can observe {0:s} for {1:.2f} at Cerro Tololo Observatory in March.\".format(name, obj_time.to(u.h))\n",
    "        print(output)\n",
    "    else:\n",
    "        out = \"You can not observe M31 in March.\"\n",
    "        print(out)"
   ]
  },
  {
   "cell_type": "code",
   "execution_count": 1,
   "metadata": {},
   "outputs": [],
   "source": [
    "#I would like to note that during this coding, I was feveriously working on it. \n",
    "#Due to mental imparments, I was aware of what I was doing, but I was unaware of the code around me. \n",
    "#I tried my best over the weekend to observe the sky. It was cloudy each night I checked. "
   ]
  },
  {
   "cell_type": "code",
   "execution_count": 1,
   "metadata": {},
   "outputs": [],
   "source": [
    "#april 30th to may 1st we have observing time. \n",
    "#ESO https://www.eso.org\n",
    "#staralt\n",
    "#today start a lab with a partner\n",
    "#Nasa has a collection of archieved catalog. \n",
    "#astropy.coordinates.EarthLocation.get_site_names()"
   ]
  },
  {
   "cell_type": "code",
   "execution_count": 5,
   "metadata": {},
   "outputs": [
    {
     "ename": "NameError",
     "evalue": "name 'astropy' is not defined",
     "output_type": "error",
     "traceback": [
      "\u001b[1;31m---------------------------------------------------------------------------\u001b[0m",
      "\u001b[1;31mNameError\u001b[0m                                 Traceback (most recent call last)",
      "\u001b[1;32m<ipython-input-5-e2891d04ebe9>\u001b[0m in \u001b[0;36m<module>\u001b[1;34m()\u001b[0m\n\u001b[1;32m----> 1\u001b[1;33m \u001b[0mastropy\u001b[0m\u001b[1;33m.\u001b[0m\u001b[0mcoordinates\u001b[0m\u001b[1;33m.\u001b[0m\u001b[0mEarthLocation\u001b[0m\u001b[1;33m.\u001b[0m\u001b[0mget_site_names\u001b[0m\u001b[1;33m(\u001b[0m\u001b[1;33m)\u001b[0m\u001b[1;33m\u001b[0m\u001b[0m\n\u001b[0m",
      "\u001b[1;31mNameError\u001b[0m: name 'astropy' is not defined"
     ]
    }
   ],
   "source": [
    "lowell = Observer(longitude = 105.82027777778 * u.deg,\n",
    "                    latitude =  32.7802778 * u.deg,\n",
    "                    elevation = 2788 * u.m,\n",
    "                    timezone = 'US/Mountain',\n",
    "                    name = \"Apache Point Observatory\"\n",
    "                    )\n",
    "lowell_timezone = a_p_o.timezone\n",
    "\n",
    "observational_window = Time(\"2018-12-31 12:00:00\")\n",
    "\n",
    "observational_window2 = Time(\"2018-03-31 12:00:00\")\n",
    "\n",
    "beginning_a_p_o = observational_window.to_datetime(a_p_o_timezone)\n",
    "\n",
    "print(\"The local time at the observational window is {0}\".format(beginning_a_p_o))"
   ]
  },
  {
   "cell_type": "code",
   "execution_count": null,
   "metadata": {},
   "outputs": [],
   "source": [
    "#4/04/2018. Worked on fitting and working code for the HW assignment.\n",
    "#got most of the code writen and ran the first half. First half was completed without errors. \n",
    "#The moon is a big trouble for us. The declination is right on top of our mean value for the data point's dec.\n",
    "#I have thought of this problem extensively, Firstly, its only on this spot on the first day, but since we are taking\n",
    "#the differenece between first and last observations. I can do one of the following, create a for loop for each\n",
    "#day and each position the moon will be in, ignore the moon, pick different points, or track the moon as it crosses\n",
    "#the sky and make a for loop for moon seperations distance. "
   ]
  },
  {
   "cell_type": "code",
   "execution_count": 1,
   "metadata": {},
   "outputs": [],
   "source": [
    "#4/06/2018, Supercloudy week! No observations done. \n",
    "#Spent the entire day getting new data points as we learned that the data we had didn't have enough variation.\n",
    "#Finished the code the class before and only freshened it up today. "
   ]
  },
  {
   "cell_type": "code",
   "execution_count": 2,
   "metadata": {},
   "outputs": [],
   "source": [
    "#4/09/2018, searched the entire weekend and found that there wasn't a single cloundless night except friday,\n",
    "#which I skipped because I was felling really bad taht day.\n",
    "#Observing data project: based on new observations or archiveal pages\n",
    "#8-10 pages. without plots\n",
    "#is worth 30% of final grade. \n",
    "#structured like a scientific data. Introcdutions, data, analysis, Results, conclusion. It will be graded on the rubric\n",
    "#in canvas. If data isn't deep enough, still write what you look for. \n",
    "#April 20th observng project purposal due.\n",
    "#May 18th first draft\n",
    "#May 25th second draft\n",
    "#June 1st final draft\n",
    "#latex template will be provided. Can work in groups but need to submit own paper and code. \n",
    "#april 30th - may 1st- birght A half nights on APO 3.5m. Imaging or spec\n",
    "#The Awing telescope is abaliable for observations.\n",
    "#make sure you understand what the data your looking at in archival data. \n",
    "#Reading scientific papers: start with the abstract, does the paper sound interesting? \n",
    "#look at the plots. What are they saying.\n",
    "#Read the conclusion, go back to the beginning and start from the top. \n",
    "#voxcharta is a good way to find topics. \n",
    "#annual review of astronomy and astrophysics article. \n",
    "#Waited till night to see nothing but clouds. "
   ]
  },
  {
   "cell_type": "code",
   "execution_count": 1,
   "metadata": {},
   "outputs": [],
   "source": [
    "#Project ideas, Looking into the question of how the magnetic fields from magnetars affect a star its companioned with\n",
    "#Looking into Hypernovas. \n",
    "#TYC 3162 - 665-1 \n",
    "#If a magnetar is in binary with another star, theortically, the side of the star that faces the magnetar will have\n",
    "#more solar flares than the other.\n",
    "#Low mass star binay or acresion disk. \n",
    "#count of the amount of stars in the orion nebula.https://ui.adsabs.harvard.edu/#abs/2001AJ....121.3160C/abstract\n",
    "#alternative nebula, M1-92 at apo, nicfps, TRIPLESPEC\n",
    "#Another idea, find the age of a globular cluster with spectroscopic data. target M3,M5,M13,M53,NGC4147,NGC5053,\n",
    "#open clusters: coma, \n",
    "#IRC+10420 hypergiant geometroy from optical spectra.\n",
    "#due 4/20th"
   ]
  },
  {
   "cell_type": "code",
   "execution_count": 1,
   "metadata": {},
   "outputs": [],
   "source": [
    "#4/11/2018 Basics of observational observation.\n",
    "#What do we want to know about the star. \n",
    "#We use mirrors to avoid harder aborations that we need to calculate.\n",
    "#Apparent mag Luminosity need to know distance to the object because of apparent mag. f=1/d^2\n",
    "#Resolution, R=wavelength/aperture. \n",
    "#Flux per unit wavelength, for spec.\n",
    "#Working everywhere but were focusing on visible and may not work for the other bands.\n",
    "#Filters block certain light so you can see what light is being made. \n",
    "#Lot of filters can be used for making low res spectrograph.\n",
    "#differential vs absoulte photometry, both include comparison to another star.\n",
    "#differential comparison to a star of unknown luminosity.\n",
    "#absolute comparison to a star of known luminosity. Want star to be close to same magnitude.\n",
    "#stars are not square like our detectors.Toss all partial pixels.could use those pixels(even though they will have sky)\n",
    "#Could use a weighting scheme.\n",
    "#Intervening materials. weather, dust, sky brightness, cranes, airmass.\n",
    "#Histogram function is completely missing from DS9."
   ]
  },
  {
   "cell_type": "code",
   "execution_count": 1,
   "metadata": {},
   "outputs": [],
   "source": [
    "#4/13/2018 Worked on the fits files assignment. \n",
    "#The histograms function was missing from the ds9 and I was unable to do anything with histograms. \n",
    "#Been rainy all week and been unable to observe on any night. \n",
    "#Going to spend some time over the weekned looking at low mass star binaries. "
   ]
  },
  {
   "cell_type": "code",
   "execution_count": 1,
   "metadata": {},
   "outputs": [],
   "source": [
    "#4/16/2018 Spent little time looking at low mass binaries and instead opted to look for stars count in orion.\n",
    "#The entire weekend was cloudy.\n",
    "#ccd's and electronics on friday.\n",
    "#the bias or overscan is the black bar in the center. At the edges it was fainter but still a good square.\n",
    "#Scattered light at the black sections is from scattered lights.\n",
    "#not all telescopes record ra and dec\n",
    "#for the histograms we found in the hw problem:\n",
    "#poisson distributions, gaussian distribution. We look at our regions and figure out whether it was poisson or gaussian\n",
    "#65000 counts is the saturation of the ccd's were using.\n",
    "#poisson = photon> independant (quasi)\n",
    "#gaussian = variations in ccd readouts\\electonics will cause a normal distribution around the bias level\n",
    "#you can also calculate the read noise and gain from this histogram\n",
    "#HCG is hickson compact group or galaxy cluster survey.\n",
    "#Group been in the top right so that it is off the electronics.\n",
    "#The dec and ra is slightly off because the telescope was slightly off because of above\n",
    "#wash filter avoids skyline faint background.\n",
    "#you lose extra light using a different filter in 1 observation, vs another, based on design. that's why apo images\n",
    "#Might look different from flatfits file because of the optical path design, things may very. \n",
    "#detectors ccds: the collect then pass charges off. pixles are like buckets. When a bucket is full, it spills out\n",
    "#into the other pixels. ccds count for the minutes you ask for. It doesn't know when a photon was hit, just that it did\n",
    "#electrodes get charged and the charge gets carried on a silicon material to a computer.\n",
    "#readouts take time. They read out one rows that falls, and one pixel at a time. 20-40s is a good readout time.\n",
    "#Quantum efficency in %, how a ccd coverts photons into electricity. coatings of metal give far greater percentage.\n",
    "#ccd's work at liquid nitrogen temps since they give lots of dark current since everything is moving in the atoms.\n",
    "#dark current\n",
    "#12-15 um pixels are a standard pixel detectors. with small pixels, they take longer to get pixels into the buckets.\n",
    "#ccds are good because they are linear, pixels can saturate, gain is intrinsic, responsive in the optical fundamentally\n",
    "#a material issues, ccds have become commercially viable.\n",
    "#CMOS detectors reads out in each pixel. Issues around nose, heat and distance. because electronics fill pixel, image >\n",
    "#Signal to noise, the lower the harder it is to idenfity what you're looking at. \n",
    "#ccds have several noise makers, short noise thermal, read noise bias. \n",
    "#too large of a signal to noise will make operations long and its expensive to run.\n",
    "#Shot noise photons hit the chip and when they get there is dictated by poisson statistics \n",
    "#so you will not get the same number at a given time."
   ]
  },
  {
   "cell_type": "code",
   "execution_count": 1,
   "metadata": {},
   "outputs": [],
   "source": [
    "#4/18/2018\n",
    "#https://python4astronomers.github.io/core/numpy_scipy.html unfinished\n",
    "#Observed tonight and got an image of a few stars directly above me.I have not decomposed what I've seen yet.\n",
    "#Managed to get through most of what you had assigned but was unable to complete. "
   ]
  },
  {
   "cell_type": "code",
   "execution_count": 1,
   "metadata": {},
   "outputs": [],
   "source": [
    "#4/20/2018 Completed the purposal and decided to go for observing and trying to understand yellow hypergiant IRC+10420\n",
    "#This specific star is great for observing due to the shear amount of observation there is on it and it is\n",
    "#Observed in the obtical. I'm concerned about witch spectra instrument to use at the APO telescope\n",
    "#I am also concerned that I will not have enough for a 10 page paper. IRC+10420 is observable on the schedualed time\n",
    "#My goal is to understand the propertiesandI'm concerned that I wont get enough info to know its more unique properties\n",
    "#Rushed to work on the lab today."
   ]
  },
  {
   "cell_type": "code",
   "execution_count": 2,
   "metadata": {},
   "outputs": [],
   "source": [
    "#4/23/2018 Finished answering the questions on the fourth problem but did not write them up. \n",
    "#Observed tonight. Saw a few different stars since the last obvservation. For some reason I think I'm looking at the\n",
    "#big dipper"
   ]
  },
  {
   "cell_type": "code",
   "execution_count": 1,
   "metadata": {},
   "outputs": [],
   "source": [
    "#4/25/2018 Gia data catalog on variable stars has been made public.\n",
    "#Project IRC 10420 spectra take, wolfray rey and AGB spectra to compare. IRC not visable when we can obvserve in apo\n",
    "#We can take spectra using a never before use spectragraph here in the school. \n",
    "#Need to search for IRC counter parts that can be viewed in our observing time. \n",
    "#High resolution spectrograph to observe IRC\n",
    "#By friday, need to find out how we are observing"
   ]
  },
  {
   "cell_type": "code",
   "execution_count": null,
   "metadata": {},
   "outputs": [],
   "source": [
    "#4/27/2018 Searched for substitutes to IRC 10420 and could only find them on the opposite side of the nightsky ie. 0ra\n",
    "#IRC+10420 V and mag 11.66\n",
    "#Potential AGB, NR Vulpeculae or V* NR Vul, V band mag 9.36\n",
    "#Potential Wolf-Rayet stars WR 139 or HD 193576 Vband mag 8, WR 140or HD 193793 Vband mag 7.25, WR 147 or \n",
    "#EM* AS 431 Vband mag 14.89\n",
    "#These magnitudes were what you asked me to sent to you to determine exposure time. Since I will have only two to\n",
    "#three hours to observe each star. \n",
    "#Worked on getting the data for CCD in class. We have rather great data."
   ]
  }
 ],
 "metadata": {
  "kernelspec": {
   "display_name": "Python 3",
   "language": "python",
   "name": "python3"
  },
  "language_info": {
   "codemirror_mode": {
    "name": "ipython",
    "version": 3
   },
   "file_extension": ".py",
   "mimetype": "text/x-python",
   "name": "python",
   "nbconvert_exporter": "python",
   "pygments_lexer": "ipython3",
   "version": "3.6.4"
  }
 },
 "nbformat": 4,
 "nbformat_minor": 2
}
