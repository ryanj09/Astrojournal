{
 "cells": [
  {
   "cell_type": "code",
   "execution_count": 8,
   "metadata": {},
   "outputs": [],
   "source": [
    "%matplotlib inline\n",
    "import matplotlib.pyplot as plt\n",
    "\n",
    "import numpy as np\n",
    "import pandas as pd\n",
    "\n",
    "import astropy.units as u\n",
    "from astropy.time import Time\n",
    "from astropy.coordinates import SkyCoord\n",
    "import pytz\n",
    "\n",
    "from astroplan.plots import plot_sky, plot_airmass\n",
    "from astroplan import Observer, FixedTarget, time_grid_from_range, observability_table, moon_illumination\n",
    "from astroplan import AirmassConstraint, MoonSeparationConstraint"
   ]
  },
  {
   "cell_type": "code",
   "execution_count": 9,
   "metadata": {},
   "outputs": [
    {
     "name": "stdout",
     "output_type": "stream",
     "text": [
      "The local time at the observational window of December 1st is 2018-12-01 05:00:00-07:00\n",
      "The local time at the observational window of December 15st is 2018-12-14 05:00:00-07:00\n"
     ]
    }
   ],
   "source": [
    "lowell = Observer(longitude = 111.6644444 * u.deg,\n",
    "                    latitude =  35.2027778 * u.deg,\n",
    "                    elevation = 2210 * u.m,\n",
    "                    timezone = 'US/Arizona',\n",
    "                    name = \"Lowell Observatory\"\n",
    "                    )\n",
    "lowell_timezone = lowell.timezone\n",
    "#doing two times, start at the first day then compare the diffrence\n",
    "observational_window = Time(\"2018-12-01 12:00:00\")\n",
    "\n",
    "observational_window2 = Time(\"2018-12-14 12:00:00\")# since 15th is and end, this start will be on 14th\n",
    "\n",
    "beginning_lowell = observational_window.to_datetime(lowell_timezone)\n",
    "\n",
    "beginning_lowell2 = observational_window2.to_datetime(lowell_timezone)\n",
    "\n",
    "print(\"The local time at the observational window of December 1st is {0}\".format(beginning_lowell))\n",
    "\n",
    "print(\"The local time at the observational window of December 15st is {0}\".format(beginning_lowell2))"
   ]
  },
  {
   "cell_type": "code",
   "execution_count": 7,
   "metadata": {},
   "outputs": [
    {
     "name": "stdout",
     "output_type": "stream",
     "text": [
      "Astronomical Evening Twilight starts at 2018-12-01 10:50:59.721 UTC\n",
      "Astronomical Morning Twilight starts at 2018-12-01 21:54:00.471 UTC\n",
      "You can observe for 11.1 h at Lowell observatory in December.\n",
      "You can observe for 11.2 h at Lowell observatory in December 15th.\n"
     ]
    }
   ],
   "source": [
    "lowell_end = Time(\"2018-12-02 12:00:00\")\n",
    "\n",
    "lowell2_end = Time(\"2018-12-15 12:00:00\")\n",
    "\n",
    "lowell_rise = lowell.twilight_morning_astronomical(observational_window, which='next')\n",
    "\n",
    "lowell_set = lowell.twilight_evening_astronomical(observational_window, which='nearest')\n",
    "\n",
    "lowell2_rise = lowell.twilight_morning_astronomical(observational_window2, which='next')\n",
    "\n",
    "lowell2_set = lowell.twilight_evening_astronomical(observational_window2, which='nearest')\n",
    "\n",
    "print(\"Astronomical Evening Twilight starts at {0.iso} UTC\".format(lowell_set))\n",
    "\n",
    "print(\"Astronomical Morning Twilight starts at {0.iso} UTC\".format(lowell_rise))\n",
    "\n",
    "observing_length = (lowell_rise - lowell_set).to(u.h)\n",
    "\n",
    "observing_length2 = (lowell2_rise - lowell2_set).to(u.h)\n",
    "\n",
    "print(\"You can observe for {0:.1f} at Lowell observatory in December.\".format(observing_length))\n",
    "print(\"You can observe for {0:.1f} at Lowell observatory in December 15th.\".format(observing_length2))"
   ]
  },
  {
   "cell_type": "code",
   "execution_count": 12,
   "metadata": {},
   "outputs": [
    {
     "name": "stdout",
     "output_type": "stream",
     "text": [
      "The Moon phase is 1.9015867927803034 rad so it is about Waxing.\n",
      "The Moon phase is 2.121791205168167 rad so it is about Waxing.\n"
     ]
    }
   ],
   "source": [
    "#lattitude for moon is 0.81 december 1st and -7.43 at 14th\n",
    "phase = lowell.moon_phase(observational_window) #phase = 2*pi is new moon. phase = 0 is full\n",
    "phase2 = lowell.moon_phase(lowell_end)\n",
    "\n",
    "print('The Moon phase is {0} so it is about Waxing.'.format(phase))\n",
    "print('The Moon phase is {0} so it is about Waxing.'.format(phase2))"
   ]
  },
  {
   "cell_type": "code",
   "execution_count": null,
   "metadata": {},
   "outputs": [],
   "source": [
    "window_range = [observational_window, lowell_end]\n",
    "\n",
    "window_range2 = [observational_window2, lowell2_end]\n",
    "\n",
    "window_time_grid = time_grid_from_range(window_range)\n",
    "\n",
    "window_time_grid2 = time_grid_from_range(window_range2)\n",
    "\n",
    "target_table = pd.read_csv('./datastar1.csv')\n",
    "\n",
    "target_values = target_table.as_matrix()\n",
    "\n",
    "targets = [FixedTarget(coord=SkyCoord(ra = RA*u.hourangle, dec = DEC*u.deg), name=Name)\n",
    "           for Name, RA, DEC in target_values]\n",
    "\n",
    "#targets\n",
    "\n",
    "#To find the moon seperation, I figured that the objects are so close it doesn't matter, \n",
    "#took the average of the dec, and subtracted that by 0.81 for 1st and -7.43 for 15th\n",
    "#dec average for 1st day is 0.792464. This method will not work.\n",
    "\n",
    "constraints = [AirmassConstraint(2)]# we are not going above an air mass of two\n",
    "constraints.append(MoonSeparationConstraint(53.33875*u.deg))#need to change this to an actuall, need to make a for loop\n",
    "#limits of this code, this only observes the moon at the start and end, but not over the course of our 15 days. \n",
    "constraints2 = [AirmassConstraint(2)]\n",
    "constraints2.append(MoonSeparationConstraint(18.099*u.deg))\n",
    "\n",
    "observing_range_lowell = [lowell_set, lowell_rise]\n",
    "\n",
    "observing_range_lowell2 = [lowell2_set, lowell2_rise]\n",
    "\n",
    "observing_table_lowell = observability_table(constraints, lowell, targets, time_range = observing_range_lowell)\n",
    "\n",
    "observing_table_lowell2 = observability_table(constraints, lowell, targets, time_range = observing_range_lowell2)\n",
    "\n",
    "print(observing_table_lowell)\n",
    "print(observing_table_lowell2)"
   ]
  },
  {
   "cell_type": "code",
   "execution_count": null,
   "metadata": {},
   "outputs": [],
   "source": [
    "fig,ax = plt.subplots(1,1)\n",
    "fig.set_size_inches(10,5)\n",
    "\n",
    "fig.tight_layout()\n",
    "\n",
    "for i, my_object in enumerate(targets):#enumerate grab the if statment\n",
    "\n",
    "    if observing_table_porto['ever observable'][i]:#ignore object I can't see\n",
    "        ax = plot_airmass(my_object, lowell, window_time_grid, max_airmass=2.0)\n",
    "\n",
    "ax.vlines(lowell_rise.datetime, 1,3, color='r', linewidth=5)\n",
    "ax.vlines(lowell_set.datetime, 1,3, color='b', linewidth=5)\n",
    "\n",
    "ax.legend(loc=0,shadow=True);"
   ]
  },
  {
   "cell_type": "code",
   "execution_count": null,
   "metadata": {},
   "outputs": [],
   "source": [
    "fig,ax = plt.subplots(1,1)\n",
    "fig.set_size_inches(10,5)\n",
    "\n",
    "fig.tight_layout()\n",
    "\n",
    "for i, my_object in enumerate(targets):#enumerate grab the if statment\n",
    "\n",
    "    if observing_table_porto['ever observable'][i]:#ignore object I can't see\n",
    "        ax = plot_airmass(my_object, lowell, window_time_grid2, max_airmass=2.0)\n",
    "\n",
    "ax.vlines(lowell_rise.datetime, 1,3, color='r', linewidth=5)\n",
    "ax.vlines(lowell_set.datetime, 1,3, color='b', linewidth=5)\n",
    "\n",
    "ax.legend(loc=0,shadow=True);"
   ]
  },
  {
   "cell_type": "code",
   "execution_count": null,
   "metadata": {},
   "outputs": [],
   "source": [
    "for i, my_object in enumerate(targets):\n",
    "\n",
    "    if observing_table_lowell['ever observable'][i]:\n",
    "        name = observing_table_lowell['target name'][i]\n",
    "        obj_frac = observing_table_lowell['fraction of time observable'][i]\n",
    "        obj_time = obj_frac * observing_length\n",
    "        output = \"You can observe {0:s} for {1:.2f} at Lowell Observaitory in December 1st.\".format(name, obj_time.to(u.h))\n",
    "        print(output)\n",
    "print('------------------------------------------------------')\n",
    "for i, my_object in enumerate(targets):\n",
    "\n",
    "    if observing_table_lowell2['ever observable'][i]:\n",
    "        name = observing_table_lowell2['target name'][i]\n",
    "        obj_frac = observing_table_lowell2['fraction of time observable'][i]\n",
    "        obj_time = obj_frac * observing_length2\n",
    "        output = \"You can observe {0:s} for {1:.2f} at Lowell Observaitory in December 15th\".format(name, obj_time.to(u.h))\n",
    "        print(output)"
   ]
  }
 ],
 "metadata": {
  "kernelspec": {
   "display_name": "Python 3",
   "language": "python",
   "name": "python3"
  },
  "language_info": {
   "codemirror_mode": {
    "name": "ipython",
    "version": 3
   },
   "file_extension": ".py",
   "mimetype": "text/x-python",
   "name": "python",
   "nbconvert_exporter": "python",
   "pygments_lexer": "ipython3",
   "version": "3.6.4"
  }
 },
 "nbformat": 4,
 "nbformat_minor": 2
}
